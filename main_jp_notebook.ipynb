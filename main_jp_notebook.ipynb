{
 "cells": [
  {
   "cell_type": "markdown",
   "id": "c8948bef",
   "metadata": {},
   "source": [
    "# Overview of integration of INformation laters\n",
    "\n",
    "![Spatial layers integration](./img/spatial_layers_integration.jpg)"
   ]
  },
  {
   "cell_type": "code",
   "execution_count": null,
   "id": "9b0fceae",
   "metadata": {},
   "outputs": [],
   "source": [
    "import os\n",
    "import pandas as pd\n",
    "import geopandas as gpd\n",
    "import python.mod_01_0_wb_automator as wb_automator\n",
    "import python.mod_01_1_pivot_rooftop_data as pivot_rt_analysis\n",
    "import python.mod_02_pv_power_month as pv_rt_analysis\n",
    "import python.mod_03_geopandas_facade_analyser as facade_analyser\n",
    "import python.mod_04_1_ener_consum_profile_assigner as ener_cons_profile_assigner\n",
    "import python.mod_04_2_energy_profile_aggregation as profile_aggregation\n",
    "import python.mod_04_3_self_consump_estimation as self_cons_estimator\n",
    "import python.mod_05_0_inspire_db_assigner as inspire_db_assigner\n",
    "import python.mod_05_1_simple_kpi_calc as kpi_calc\n",
    "import python.mod_05_2_economic_analysis as economic_analysis\n",
    "import python.mod_06_enercom_estimator as enercom_estimator\n",
    "import python.mod_07_self_cons_scenarios_calc as self_cons_scenarios_calc \n",
    "import python.mod_07_geo_visualization as geo_visualization\n",
    "import python.util_func as util_func"
   ]
  },
  {
   "cell_type": "code",
   "execution_count": null,
   "id": "364624bb",
   "metadata": {},
   "outputs": [],
   "source": [
    "# Class to extract file names form the excel file\n",
    "class DefaultPathsAndFileNames:\n",
    "    \"\"\"\n",
    "    A class to hold a set of default paths for a standardized and replicable approach.\n",
    "    \"\"\"\n",
    "\n",
    "    def __init__(self, excel_path='files_directories_naming.xlsx', sheet_name=\"Sheet1\"):\n",
    "        \"\"\"\n",
    "        Initialize the DefaultPaths class.\n",
    "\n",
    "        Args:\n",
    "            excel_path (str, optional): Path to the Excel file containing variable names.\n",
    "            sheet_name (str, optional): Name of the sheet to read from the Excel file.\n",
    "        \n",
    "        self.BASE_DIR = \"your_custom_name\"  # Replace with your base directory\n",
    "        self.data_dir = f\"{self.BASE_DIR}/data\"\n",
    "        self.lidar_dir = f\"{self.BASE_DIR}/lidar\"\n",
    "        self.vector_dir = f\"{self.BASE_DIR}/vector\"\n",
    "        self.raster_dir = f\"{self.BASE_DIR}/raster\"\n",
    "\n",
    "        # Define file names\n",
    "        self.LIDAR_FILE = \"lidar.las\"\n",
    "        self.BUILDING_FOOTPRINT_FILE = \"building_footprint.shp\"\n",
    "        self.STATISTICAL_CENSUS_FILE = \"statistical_census.shp\"\n",
    "        self.WHITEBOX_RT_ANALYSIS_FILE = \"wb_rt_analysis.shp\"\n",
    "        \"\"\"\n",
    "        # Extract file names from Excel and set them as attributes\n",
    "        if excel_path and sheet_name:\n",
    "            df=self._set_file_names_from_excel(excel_path, sheet_name)\n",
    "            print(df)\n",
    "            self.PATH = os.getcwd() if pd.isna(df.loc['PATH', 'Name']) else f\"{df.loc['PATH', 'Name']}\"\n",
    "            self.LIDAR_FILE = f\"{df.loc['LIDAR_FILE', 'Name']}\"\n",
    "            self.BUILDING_FOOTPRINT_FILE = f\"{df.loc['BUILDING_FOOTPRINT_FILE','Name']}\"\n",
    "            self.STATISTICAL_CENSUS_FILE = f\"{df.loc['STATISTICAL_CENSUS_FILE','Name']}\"\n",
    "            self.HEATMAPS_HDEM_RASTER = f\"{df.loc['HEATMAPS_HDEM_RASTER','Name']}\" if 'HEATMAPS_HDEM_RASTER' in df.index else None\n",
    "            self.WHITEBOX_RT_ANALYSIS_FILE = f\"{df.loc['WHITEBOX_RT_ANALYSIS_FILE','Name']}\"\n",
    "            self.LPG_FILES_DIR = f\"{df.loc['LPG_FILES_DIR','Name']}\" if 'LPG_FILES_DIR' in df.index else \"LoadProGen\"\n",
    "            self.ROOFTOP_FILE = f\"{df.loc['ROOFTOP_FILE','Name']}\" if 'ROOFTOP_FILE' in df.index else None\n",
    "            self.SEGMENT_FILE = f\"{df.loc['SEGMENT_FILE','Name']}\" if 'SEGMENT_FILE' in df.index else None\n",
    "\n",
    "            #Print the file names for demonstration\n",
    "            #print(\"File names from Excel:\\n\")\n",
    "            #print(f\"PATH: {self.PATH}\")\n",
    "            #print(f\"LIDAR_FILE: {self.LIDAR_FILE}\")\n",
    "            #print(f\"BUILDING_FOOTPRINT_FILE: {self.BUILDING_FOOTPRINT_FILE}\")\n",
    "            #print(f\"STATISTICAL_CENSUS_FILE: {self.STATISTICAL_CENSUS_FILE}\")\n",
    "            #print(f\"WHITEBOX_RT_ANALYSIS_FILE: {self.WHITEBOX_RT_ANALYSIS_FILE}\")\n",
    "\n",
    "    def get(self, key):\n",
    "        \"\"\"\n",
    "        Retrieve the path associated with a given key.\n",
    "\n",
    "        Args:\n",
    "            key (str): The key for the desired path.\n",
    "\n",
    "        Returns:\n",
    "            str: The corresponding path, or None if the key does not exist.\n",
    "        \"\"\"\n",
    "        return getattr(self, key, None)\n",
    "\n",
    "    def _set_file_names_from_excel(self, excel_path, sheet_name):\n",
    "        \"\"\"\n",
    "        Extract file names from an Excel sheet and set them as attributes.\n",
    "\n",
    "        Args:\n",
    "            excel_path (str): Path to the Excel file.\n",
    "            sheet_name (str): Name of the sheet to read.\n",
    "        \"\"\"\n",
    "        try:\n",
    "            df = pd.read_excel(excel_path, sheet_name=sheet_name, index_col=0)\n",
    "            #print(df.head())\n",
    "            #print(df.loc['LIDAR_FILE','File'])  # Print the row corresponding to 'LIDAR_FILE' for debugging\n",
    "            # Assuming the file names are in the first column\n",
    "            #file_names = df.iloc[:, 0].dropna().tolist()\n",
    "            return df\n",
    "        except Exception as e:\n",
    "            print(f\"Error reading Excel file: {e}\")"
   ]
  },
  {
   "cell_type": "markdown",
   "id": "958d5ab7",
   "metadata": {},
   "source": [
    "### INPUT Global variables"
   ]
  },
  {
   "cell_type": "code",
   "execution_count": null,
   "id": "6149aff1",
   "metadata": {},
   "outputs": [],
   "source": [
    "PATH = os.getcwd() \n",
    "INPUT_FILE=\"00_input_data.xlsx\"\n",
    "default_paths = DefaultPathsAndFileNames(excel_path=INPUT_FILE, sheet_name=\"file_names\")\n",
    "\n",
    "WINDOW_TO_WALL_RATIO = 0.24  # Ratio of window area to wall area\n",
    "\n",
    "LPG_FILES_FOLDER = os.path.join(PATH,\"LoadProGen\", default_paths.get(\"LPG_FILES_DIR\"))"
   ]
  },
  {
   "cell_type": "markdown",
   "id": "58a52dca",
   "metadata": {},
   "source": [
    "### Naming for attributes of the columns in the dataframes\n",
    "`build_id`, `census_id`, `year_of_constr`, `building` (`building_type`)\n",
    "`r_area`, `height`"
   ]
  },
  {
   "cell_type": "code",
   "execution_count": null,
   "id": "f478381b",
   "metadata": {},
   "outputs": [],
   "source": [
    "standard_names = {\n",
    "    \"build_id\": \"unique building identifier\",\n",
    "    \"census_id\": \"unique census identifier\",\n",
    "    \"year_constr\": \"year of construction of building\",\n",
    "    \"building\": \"type of building\",\n",
    "    \"height\": \"height of building, m\", # if available\n",
    "    \"r_area\": \"rooftop area, m2\"\n",
    "}\n",
    "# ADJUST YOUR NAMING\n",
    "YOUR_BUILDING_ID_COLUMN = \"your_build_id_column_name\"  # Unique building identifier\n",
    "YOUR_CENSUS_ID_COLUMN = \"your_census_id_column_name\"  # Unique census identifier\n",
    "YOUR_YEAR_CONSTR_COLUMN = \"year_const\" #\"your_year_constr_column_name\"  # Year of construction of building\n",
    "YOUR_BUILDING_COLUMN = \"your_building_column_name\"  # Type of building\n",
    "YOUR_HEIGHT_COLUMN = \"your_height_column_name\"  # Height of building, m\n",
    "# Optional \n",
    "YOUR_FLOORS_NUMBER_COLUMN = \"your_floors_number_column_name\"  # Number of floors, if available\n",
    "# RENAME your data column sot standardize\n",
    "\"\"\"\n",
    "data = pd.read_csv(\"your_data.csv\")  # Load your data)\n",
    "data.rename(columns={\n",
    "    YOUR_BUILDING_ID_COLUMN: \"build_id\",\n",
    "    YOUR_CENSUS_ID_COLUMN: \"census_id\",\n",
    "    YOUR_YEAR_CONSTR_COLUMN: \"year_constr\",\n",
    "    YOUR_BUILDING_COLUMN: \"building\",\n",
    "    YOUR_HEIGHT_COLUMN: \"h_mean\" # remove if not available\n",
    "})\n",
    " \"\"\""
   ]
  },
  {
   "cell_type": "markdown",
   "id": "b3bcbd5f",
   "metadata": {},
   "source": [
    "### Ensure All files have the same Coordinate Reference Systems [Very Important!]"
   ]
  },
  {
   "cell_type": "markdown",
   "id": "2783067d",
   "metadata": {},
   "source": [
    "## MODULE 1\n"
   ]
  },
  {
   "cell_type": "markdown",
   "id": "b41f9d4a",
   "metadata": {},
   "source": [
    "#### 00 wb_automatiser\n",
    "Provides an automated workflow for rooftop analysis using LiDAR and vector data. It leverages the Whitebox Workflows library and GeoPandas to:\n",
    "\n",
    "1. Run WhiteBox rooftop Analysis Tool for rooftop segmentation on LiDAR point clouds to identify `area`, `slope` and `azimuth` for each recognised segment of rooftop.\n",
    "2. Join building footprints with census data.\n",
    "3. Add XY coordinates to rooftop segments.\n",
    "4. Join rooftop segments with building and census IDs.\n",
    "5. Export results as GeoJSON, Shapefile, and CSV (for further optinal selection)."
   ]
  },
  {
   "cell_type": "code",
   "execution_count": null,
   "id": "f37652f3",
   "metadata": {},
   "outputs": [],
   "source": [
    "wb_automator = wb_automator.RooftopAnalysisAutomatiserPython(\n",
    "    path=PATH,\n",
    "    root_dir=\"pyqgis_wb_automator\",\n",
    "    case_study_name=\"bilbao_otxarkoaga\",\n",
    "    suffix=\"_v2\",\n",
    "    crs=\"epsg:25830\",\n",
    "    filter_area=1,  # Filter segments of rooftops with area greater than 1 square meter or put None to disable filtering\n",
    "    census_id=\"census_id\",\n",
    "    building_ids=[\"build_id\"],\n",
    "    building_footprint_path=os.path.join(PATH, \"vector\", \"buildings_footprint\", \"etrs_25830\", default_paths.get(\"BUILDING_FOOTPRINT_FILE\")),\n",
    "    statistical_census_path=os.path.join(PATH, \"vector\", \"stat_census\", default_paths.get(\"STATISTICAL_CENSUS_FILE\")),\n",
    "    lidar_path=os.path.join(PATH, \"lidar\", default_paths.get(\"LIDAR_FILE\")),\n",
    "    )\n",
    "wb_automator.run()"
   ]
  },
  {
   "cell_type": "markdown",
   "id": "9a101d61",
   "metadata": {},
   "source": [
    "**Note:**  \n",
    "The `MAX_ELEV` field from the Whitebox Rooftop analysis tool provides the absolute elevation of rooftop points, not the building height above ground. To accurately calculate building height, you must subtract the terrain elevation (from a DTM) from `MAX_ELEV`. This correction step is not yet automated in the current workflow."
   ]
  },
  {
   "cell_type": "markdown",
   "id": "89c9f014",
   "metadata": {},
   "source": [
    "#### 01_pivot_rooftop_data\n",
    "\n",
    "Processes and summarizes rooftop analysis results. It reads Whitebox-generated rooftop segments and building footprints, classifies roof slopes and aspects, handles missing or inconsistent IDs, and pivots the data to aggregate rooftop areas by building and orientation. The results are exported as GeoJSON, Excel, and can be used for further analysis of rooftop characteristics at the building level."
   ]
  },
  {
   "cell_type": "code",
   "execution_count": null,
   "id": "da00f30b",
   "metadata": {},
   "outputs": [],
   "source": [
    "azimuth_categories = {\n",
    "    'roof_N': (337.5, 22.5),\n",
    "    'roof_NE': (22.5, 60),\n",
    "    'roof_E': (60, 111),\n",
    "    'roof_SE': (111, 162),\n",
    "    'roof_S': (162, 198),\n",
    "    'roof_SW': (198, 249),\n",
    "    'roof_W': (249, 300),\n",
    "    'roof_NW': (300, 337.5),\n",
    "    'flat_roof': (0, 0)\n",
    "}\n",
    "rt = pivot_rt_analysis.PivotRooftopAnalysis(file_dir=PATH,\n",
    "                                                 path_to_wb_rooftop_analysis='pyqgis_wb_automator\\\\bilbao_otxarkoaga_v2\\\\00_wb_rt_analysis_bilbao_otxarkoaga_v2_segments_xy_coord.geojson', \n",
    "                                                 path_to_buildings_footprint='vector\\\\buildings_footprint\\\\etrs_25830\\\\buildings_inspire_clip_oxarkoaga+census.shp')\n",
    "\n",
    "df_segments_wb_rooftop_analysis, gdf_building_footprint = rt.process_DataFrames()\n",
    "df_segments_wb_rooftop_analysis, building_footprint = rt.pivot_whitebox_rooftop_analysis(df_segment=df_segments_wb_rooftop_analysis, df_buildings_footprint=gdf_building_footprint, col_name=\"s_area\", key_ids=[\"build_id\", \"census_id\"])"
   ]
  },
  {
   "cell_type": "markdown",
   "id": "3278d183",
   "metadata": {},
   "source": [
    "## MODULE 2\n",
    "Calculates monthly photovoltaic (PV) energy production for building rooftops. It reads panel and site parameters from Excel, processes rooftop and segment data, computes solar irradiance, and estimates PV output for each month. Results are aggregated by building, including installed capacity and monthly/annual energy yield, and exported to Excel for further analysis.\n",
    "\n",
    "| #  | Attribute Name                                 | Short Name   |\n",
    "|----|------------------------------------------------|--------------|\n",
    "| 1  | Building ID                                    | build_id     |\n",
    "| 2  | Census ID                                      | census_id    |\n",
    "| 3  | Number of solar PV panels                      | n_panels     |\n",
    "|    | *Number of solar thermal panels                |              |\n",
    "| 4  | Installed capacity of solar PV panels, kWp     | panel_kWp    |\n",
    "|    | *Installed capacity of solar thermal panels, kWp|             |\n",
    "| 5  | *Monthly generation (kWh) m = 1, [1,12], m∈R   | [1:12]       |\n",
    "| 6  | Annual generation, kWh                         | Total, kWh   |\n",
    "|    | *for PV or ST 100%                             |              |\n",
    "\n",
    "Note: * reflects the group of attributes that will hold different values considering if initially solar PV or solar thermal technology estimation was accepted\n"
   ]
  },
  {
   "cell_type": "markdown",
   "id": "0331d88a",
   "metadata": {},
   "source": [
    "### 02_pv_calc_rooftop"
   ]
  },
  {
   "cell_type": "code",
   "execution_count": null,
   "id": "69d7f86f",
   "metadata": {},
   "outputs": [],
   "source": [
    "pv_calculator = pv_rt_analysis.PVMonthCalculator(INPUT_FILE, nominal_power_kwp=0.3)\n",
    "pv_calculator.calculate()"
   ]
  },
  {
   "cell_type": "code",
   "execution_count": null,
   "id": "f8ba0197",
   "metadata": {},
   "outputs": [],
   "source": [
    "#SET filter for the rooftop data\n",
    "pv_calculator = pv_rt_analysis.PVMonthCalculator(INPUT_FILE, nominal_power_kwp=0.3)\n",
    "\n",
    "pv_file_name = \"02_footprint_r_area_wb_rooftop_analysis_pv_month_pv.xlsx\"\n",
    "filter_col_name='building' # Column name to filter by building type, e.g. 'building'\n",
    "filter_value='V' # Filter value for building type, e.g. 'V' for residential buildings\n",
    "\n",
    "df_pv_gen = pd.read_excel(os.path.join(PATH, \"data\", pv_file_name), sheet_name=pv_calculator.district.capitalize(), dtype={'build_id': str, 'census_id': str})\n",
    "df_pv_gen_filered = df_pv_gen[df_pv_gen[filter_col_name]==filter_value].copy().reset_index(drop=True)\n",
    "# set building id and cencus id to string\n",
    "#df_pv_gen_filered['build_id'] = df_pv_gen_filered['build_id'].astype(str)\n",
    "#df_pv_gen_filered['census_id'] = df_pv_gen_filered['census_id'].astype(str)"
   ]
  },
  {
   "cell_type": "markdown",
   "id": "83ba8a92",
   "metadata": {},
   "source": [
    "## MODULE 3\n",
    "Analyzes building facades using GeoPandas. It loads building footprint polygons, calculates facade lengths by orientation (N, S, E, W, etc.), identifies neighboring buildings, and computes adjusted facade lengths accounting for shared walls. It also estimates facade areas, building surface area, volume, and surface-to-volume ratio, estimates facade (only surfaces exposed to open air, i.e. not shared with adjacent buildings) and window area, exporting the results for further analysis.\n",
    "\n",
    "- Total surface area / total envelope area / gross building envelope → All bounding surfaces.\n",
    "- Facade area / exposed envelope / external exposed surface → Only parts exposed to ambient air."
   ]
  },
  {
   "cell_type": "markdown",
   "id": "fec26d84",
   "metadata": {},
   "source": [
    "Table. Attributes for segments of building rooftop analysis layer\n",
    "| #  | Attribute Name                                             | Short Name             |\n",
    "|----|-----------------------------------------------------------|------------------------|\n",
    "|    | **IDs for levels analysis interplay**                     |                        |\n",
    "| 1  | Segment ID                                                | segm_id                |\n",
    "| 2  | Building ID                                               | build_id               |\n",
    "| 3  | Census ID                                                 | census_id              |\n",
    "|    | **Primary, WhiteBox RooftopAnalysis**                     |                        |\n",
    "| 4  | Slope, degree                                             | slope                  |\n",
    "| 5  | Aspect (angle), degree                                    | aspect                 |\n",
    "| 6  | Segment area (projected on horizontal surface), m²        | s_area                 |\n",
    "| 7  | Maximum elevation of segment, m                           | max_elev               |\n",
    "|    | **Secondary, WhiteBox RooftopAnalysis**                   |                        |\n",
    "| 9  | WhiteBox rooftop analysis building ID                     | wb_build_id            |\n",
    "| 10 | Hillshade of Segment                                      | hilshade               |\n",
    "|    | **Supportive**                                            |                        |\n",
    "| 8  | Exception, (1 -excluded)                                  | exception              |\n",
    "| 11 | Building use type [residential label]                     | building               |\n",
    "| 12 | Segment useful area, m²                                   | s_usf_area             |\n",
    "| 14 | Segment center X, EPSG:                                   | crs[%epsg:num]_x       |\n",
    "| 15 | Segment center Y, EPSG:                                   | crs[%epsg:num]_y       |\n",
    "|    | **Optional**                                              |                        |\n",
    "| 16 | Building address, street                                  | build_str              |\n",
    "| 17 | Building address, number                                  | build_num              |\n",
    "| 18 | Building center X, EPSG:                                  | b_cent_x               |\n",
    "| 19 | Building center Y, EPSG:                                  | b_cent_y               |\n"
   ]
  },
  {
   "cell_type": "code",
   "execution_count": null,
   "id": "560e669d",
   "metadata": {},
   "outputs": [],
   "source": [
    "file_path = os.path.join(os.getcwd(),\"data\",\"01_footprint_r_area_wb_rooftop_analysis.geojson\")\n",
    "\n",
    "analyser = facade_analyser.FacadeAnalyser(file_path=file_path)\n",
    "\n",
    "# Load polygons\n",
    "analyser.load_polygons()\n",
    "# (Optional) Merge height data if available\n",
    "if YOUR_HEIGHT_COLUMN not in analyser.polygons_gdf.columns:\n",
    "    print(\"Height data not provided, loading from default path to use `h_mean` column for calculations.\")\n",
    "    height_data_path = os.path.join(os.getcwd(), \"vector\",\"buildings_footprint\", \"height.geojson\")\n",
    "    if os.path.exists(height_data_path):\n",
    "        gdf_height = gpd.read_file(height_data_path).round(4)\n",
    "        analyser.polygons_gdf = analyser.polygons_gdf.merge(\n",
    "            gdf_height[['build_id', 'h_mean', 'h_stdev', 'h_min', 'h_max']],\n",
    "            on='build_id', how='left'\n",
    "        )\n",
    "# Calculate area and perimeter of building footprints (polygons)\n",
    "analyser.polygons_gdf['f_area'] = round(analyser.polygons_gdf['geometry'].area, 4)\n",
    "analyser.polygons_gdf['f_perimeter'] = round(analyser.polygons_gdf['geometry'].length, 4)\n",
    "\n",
    "if YOUR_FLOORS_NUMBER_COLUMN not in analyser.polygons_gdf.columns:\n",
    "    # Calculate mean height if not provided\n",
    "    print(\"Estimated num of floors `n_floorsEstim` calculated as h_mean / 3.0\")\n",
    "    analyser.polygons_gdf['n_floorsEstim'] = (analyser.polygons_gdf['h_mean'] / 3.0).round(0)\n",
    "elif YOUR_HEIGHT_COLUMN in analyser.polygons_gdf.columns:\n",
    "    # Use provided height data to estimate number of floors\n",
    "    print(f\"Estimated num of floors `n_floorsEstim` calculated as {YOUR_HEIGHT_COLUMN} / 3.0\")\n",
    "    analyser.polygons_gdf['n_floorsEstim'] = (analyser.polygons_gdf[YOUR_HEIGHT_COLUMN] / 3.0).round(0)\n",
    "else:\n",
    "    print(f\"Estimated height `h_estim` calculated as {YOUR_FLOORS_NUMBER_COLUMN} * 3.0 + 1\")\n",
    "    analyser.polygons_gdf['h_estim'] = analyser.polygons_gdf[YOUR_FLOORS_NUMBER_COLUMN] * 3.0 + 1\n",
    "\n",
    "# Calculate facade lengths per orientation\n",
    "facades_per_orientation_len_df = analyser.length_per_orientation()\n",
    "\n",
    "# Find neighbors and their lengths per orientation\n",
    "analyser.list_neighboring_polygons()\n",
    "adjusted_facades_len_df = analyser.length_of_neighbors_per_orientation()\n",
    "\n",
    "# Calculate surface area, volume, and s/v ratio\n",
    "analyser.polygons_gdf['surface_area'] = analyser.polygons_gdf.apply(analyser.calculate_surface_area, axis=1)\n",
    "analyser.polygons_gdf['volume'] = analyser.polygons_gdf.apply(analyser.calculate_volume, axis=1)\n",
    "analyser.polygons_gdf['s_v_ratio'] = analyser.polygons_gdf.apply(analyser.calculate_s_v_ratio, axis=1).round(4)\n",
    "\n",
    "# Subtract facade lengths\n",
    "result_df = analyser.subtract_facade_len_from_adjusted_sides(facades_per_orientation_len_df, adjusted_facades_len_df)\n",
    "\n",
    "# Calculate facade area per orientation\n",
    "fadace_length_cols = {'len_N': 'N', 'len_NE': 'NE', 'len_E': 'E',\n",
    "                        'len_SE': 'SE', 'len_S': 'S', 'len_SW': 'SW', 'len_W': 'W', 'len_NW': 'NW'}\n",
    "for key, value in fadace_length_cols.items():\n",
    "    result_df[f\"fa_area_{value}\"] = [0 if x < 0.1 else x for x in result_df[key]] * result_df['h_mean']\n",
    "    print(f\"The length of facade less than 1m assigned to 0, for orientation {key} number of records is: {result_df[key].loc[result_df[key] < 1].count()}\")\n",
    "\n",
    "print(f\"Facade area per orientation calculated successfully.\")\n",
    "\n",
    "result_df=analyser.recalculate_surface_area(result_df)\n",
    "\n",
    "print (\"Calculation of window area per building with fixed window to wall ratio\")\n",
    "result_df=analyser.assign_window_areas(result_df, windows_to_wall_ratio=WINDOW_TO_WALL_RATIO)\n",
    "result_df['f_v_ratio'] = result_df.apply(analyser.calculate_f_v_ratio, axis=1).round(4) # Facade to volume ratio\n",
    "\n",
    "# Save results\n",
    "result_df.to_file(\"data/03_footprint_subtracted_facades_and_s_v_volume_area.geojson\", driver=\"GeoJSON\", index=False)\n",
    "# Save as CSV without geometry column if needed\n",
    "# result_df.drop(columns=['geometry']).to_csv(\"data/03_footprint_subtracted_facades_and_s_v_volume_area.csv\", index=False)"
   ]
  },
  {
   "cell_type": "markdown",
   "id": "52349381",
   "metadata": {},
   "source": [
    "### FOR MODULES"
   ]
  },
  {
   "cell_type": "code",
   "execution_count": null,
   "id": "69754233",
   "metadata": {},
   "outputs": [],
   "source": [
    "pv_pct_list = [0.25, 0.5, 0.75, 1] # List of dwellings % participate in EC as theoretical direct collective PV self-consumption\n",
    "ec_price_coef_list = [0.1, 0.25, 0.5] # Economic coefficient for energy price, e.g. 0.1 for 10% of the energy price"
   ]
  },
  {
   "cell_type": "markdown",
   "id": "88a48e9b",
   "metadata": {},
   "source": [
    "Table. Overview of initial scenarios and assumptions for estimatory simplification\n",
    "\n",
    "| Scenario Name | Solar Rooftop                                                                 | Group I: Dwellings % participate in EC as theoretical direct collective PV self-consumption | Group II: Dwellings % participate in EC with reduced tariff | Comment                                                                                   |\n",
    "|---------------|------------------------------------------------------------------------------|------------------------------------------------------------------------------------------------|-------------------------------------------------------------|-------------------------------------------------------------------------------------------|\n",
    "| Scenario 100% | PV system installed for the initially calculated inventory potential, 100%   | 100                                                                                            | -                                                           | Equal distribution of benefits per number of dwellings within the analyzed census unit.   |\n",
    "| Scenario 75%  |                                                                              | 75                                                                                             | 25                                                          |                                                                                           |\n",
    "| Scenario 50%  |                                                                              | 50                                                                                             | 50                                                          |                                                                                           |\n",
    "| Scenario 25%  |                                                                              | 25                                                                                             | 75                                                          |                                                                                           |\n"
   ]
  },
  {
   "cell_type": "markdown",
   "id": "80245808",
   "metadata": {},
   "source": [
    "## MODULE 4"
   ]
  },
  {
   "cell_type": "markdown",
   "id": "b2f7db74",
   "metadata": {},
   "source": [
    "### 4.1 04_ener_consum_profile_assigner\n",
    "\n",
    "This component assigns detailed residential energy consumption profiles to census areas based on demographic and dwelling data. It reads census and dwelling statistics, applies demographic coefficients to estimate the distribution of household types (by size and composition), and generates synthetic energy consumption profiles for each group. The results are exported as a CSV for further energy modeling and analysis."
   ]
  },
  {
   "cell_type": "code",
   "execution_count": null,
   "id": "06e7af13",
   "metadata": {},
   "outputs": [],
   "source": [
    "dwelling_percentages_dict = {\n",
    "    \"single_dwellings\": {\n",
    "    \"percentage_of_people_20_24_live_alone\": 0.5,\n",
    "    \"percentage_of_people_25_65_live_alone\": 0.25,\n",
    "    \"percentage_of_people_65_live_alone\": 0.33\n",
    "    },\n",
    "    \"two_people_dwellings\": {\n",
    "    \"couples_25_65_without_kids\": 0.11,\n",
    "    \"couples_65_without_kids\": 0.33,\n",
    "    \"monoparental_25_65\": 0.1\n",
    "    },\n",
    "    \"three_five_people_dwellings\": {\n",
    "    \"couples_25_65_with_kids\": 0.47,\n",
    "    \"coeff_1_children\": 0.46,\n",
    "    \"coeff_2_children\": 0.44,\n",
    "    \"coeff_3_more_children\": 0.1\n",
    "    }\n",
    "}\n",
    "assigner = ener_cons_profile_assigner.EnergyConsumptionProfileAssigner(\n",
    "    dwelling_percentages_dict=dwelling_percentages_dict)\n",
    "assigner.process()"
   ]
  },
  {
   "cell_type": "markdown",
   "id": "0e1eefd2",
   "metadata": {},
   "source": [
    "### 4.2 04_energy_profile_aggregation\n",
    "\n",
    "This script aggregates and generates hourly energy consumption profiles for residential buildings based on dwelling types and occupancy. It combines synthetic load profiles with census-based dwelling distributions, allowing for different shares of PV adoption. The results are exported as CSV files for further energy system analysis, supporting scenario modeling with and without PV integration."
   ]
  },
  {
   "cell_type": "code",
   "execution_count": null,
   "id": "cf89aa2a",
   "metadata": {},
   "outputs": [],
   "source": [
    "# Estimated self consumption scenarios\n",
    "\n",
    "profile_names= {\n",
    "    #\"1P_Occup\": \"ND1 Single Occupied Dwellings\",\n",
    "    \"1P_Work\": \"CHR07 Single with work\",\n",
    "    \"Stu_Work\": \"CHR13 Student with Work\",\n",
    "    \"1P_Ret\": \"CHR30 Single, Retired Man/Woman\",\n",
    "    #\"2P_Occup\": \"ND2 Two People Occupied Dwellings\",\n",
    "    \"Couple_Work\": \"CHR01 Couple both at Work\",\n",
    "    \"Couple_65+\": \"CHR16 Couple over 65 years\",\n",
    "    \"1P_1Ch_Work\": \"CHR22 Single woman, 1 child, with work\",\n",
    "    #\"3-5P_Occup\": \"ND3-5 Three to Five People Occupied Dwellings\",\n",
    "    \"Fam_1Ch_Work\": \"CHR03 Family, 1 child, both at work\",\n",
    "    \"Stu_Share\": \"CHR52 Student Flatsharing\",\n",
    "    \"Fam_2Ch_Work\": \"CHR27 Family both at work, 2 children\",\n",
    "    \"Fam_3Ch_Work\": \"CHR41 Family with 3 children, both at work\",\n",
    "    \"Fam_1Ch_1Wrk1Hm\": \"CHR45 Family with 1 child, 1 at work, 1 at home\",\n",
    "    \"Fam_3Ch_1Wrk1Hm\": \"CHR20 Family one at work, one work home, 3 children\",\n",
    "    \"Fam_3Ch_HmWrk\": \"CHR59 Family, 3 children, parents without work/work at home\",\n",
    "    #\"6-9P_Occup\": \"ND6-9 Six to Nine People Occupied Dwellings\",\n",
    "    \"6-9P_Occup_id_1\": \"id_1\",\n",
    "    \"6-9P_Occup_id_3\": \"id_1\",\n",
    "    #\"10+P_Occup\": \"ND10 (Ten or more People Occupied Dwellings)\",\n",
    "    \"10+P_Occup_id_1\": \"id_1\",\n",
    "    \"10+P_Occup_id_2\": \"id_1\"\n",
    "}\n",
    "for pv_pct in pv_pct_list:\n",
    "    aggregator = profile_aggregation.EnergyProfileAggregator(LPG_FILES_FOLDER, profile_names, pv_pct=pv_pct)\n",
    "    #aggregator.plot_profiles()\n",
    "    result_pv_df, result_no_pv_df = aggregator.save_results()"
   ]
  },
  {
   "cell_type": "markdown",
   "id": "785d05dc",
   "metadata": {},
   "source": [
    "### 4.3 04_self_consump_estimation\n",
    "This subsection´s script estimates and analyzes self-consumption of PV energy in census sections (bu defaul focusing on residential buildings). It loads aggregated hourly PV generation and consumption profiles, aligns and aggregates them by month and season, and calculates self-consumption rates and coverage with and without PV. Results are exported as CSV files for further analysis of energy community performance and PV integration impacts at the census area level."
   ]
  },
  {
   "cell_type": "code",
   "execution_count": null,
   "id": "c6a3d6f1",
   "metadata": {},
   "outputs": [],
   "source": [
    "for pv_pct in pv_pct_list:\n",
    "    estimator = self_cons_estimator.SelfConsumptionEstimator(\n",
    "        df_pv = df_pv_gen_filered,\n",
    "        work_dir=\"data\",\n",
    "        district=\"otxarkoaga\",\n",
    "        pv_pct=pv_pct\n",
    "    )\n",
    "    #estimator.time_alignment()\n",
    "    estimator.run_self_consumption()\n",
    "    monthly_agg, monthly_agg_no_pv = estimator.save_aggregated_profiles()\n",
    "    pv_census_aggreg_df = estimator.save_pv_profiles()\n",
    "    estimator.save_net_balance(monthly_agg, pv_census_aggreg_df)"
   ]
  },
  {
   "cell_type": "markdown",
   "id": "32920736",
   "metadata": {},
   "source": [
    "## MODULE 5"
   ]
  },
  {
   "cell_type": "markdown",
   "id": "0e2e7608",
   "metadata": {},
   "source": [
    "#### 05_inspire_db_assigner\n",
    "This script assigns building-level energy demand, consumption (and as side priority: CO₂ emission) values using the INSPIRE database methodology and applies empirical equations based on construction period to compute heating, cooling, and emissions indicators. Results are exported as GeoJSON for further spatial analysis."
   ]
  },
  {
   "cell_type": "markdown",
   "id": "2ba01b49",
   "metadata": {},
   "source": [
    "**NOTE**:\n",
    "\n",
    "1. The presimulated data has been taken from [iNSPiRe FP7 - Retrofit solutions database](https://zenodo.org/records/3256270). \n",
    "The analytical coeffitients and equation for Heating(and optionally, its CO2; and Cooling) demand /consumption has been implemented for 'Southern Dry Climate'  based on the initial idea also implemented in LIFE project \"Energy Poverty 0\". The analysis gathering of these coefitionens through aggregation of  is presented in the file: [Dataset from iNSPiRE for the BASELINE]()\n",
    "\n",
    "2. `hotmaps_raster2vector_reprojected.geojson` is a manually (in QGIS) vectorized version of the raster heat demand map from [HOTMAPS project](https://www.hotmaps-project.eu/), that was projected to the same CRS as buildings footprint layer, and is used to assign HDemProj values to buildings."
   ]
  },
  {
   "cell_type": "code",
   "execution_count": null,
   "id": "3e9985fe",
   "metadata": {},
   "outputs": [],
   "source": [
    "heating_db_assigner = inspire_db_assigner.InspireDBAssigner()\n",
    "heating_db_assigner.load_data()\n",
    "heating_db_assigner.process(surface_to_volume_ratio_col='f_v_ratio', year_col=YOUR_YEAR_CONSTR_COLUMN)\n",
    "heating_db_assigner.save()\n",
    "\n",
    "# Load layers\n",
    "buildings = gpd.read_file(os.path.join(PATH, \"data\",\"05_buildings_with_energy_and_co2_values.geojson\"))\n",
    "h_dem = gpd.read_file(os.path.join(PATH,\"vector\",\"hotmaps_raster2vector_reprojected.geojson\"))\n",
    "\n",
    "\n",
    "# transform HDemProj from MWh/Ha to KWh/m2\n",
    "if 'HDemProj' in h_dem.columns:\n",
    "    h_dem['HDemProj'] = h_dem['HDemProj'] / 10  # Convert MWh/Ha to KWh/m2\n",
    "\n",
    "# Perform spatial join (predicate = intersects or within)\n",
    "joined = gpd.sjoin(buildings, h_dem[['HDemProj', 'geometry']], how='left', predicate='intersects')\n",
    "\n",
    "# Drop duplicates by index to mimic METHOD=2 (take first match only)\n",
    "joined = joined[~joined.index.duplicated(keep='first')]\n",
    "\n",
    "# Export to GeoJSON\n",
    "joined.to_file(os.path.join(PATH, \"data\",\"05_buildings_with_energy_and_co2_values+HDemProj.geojson\"), driver='GeoJSON')"
   ]
  },
  {
   "cell_type": "markdown",
   "id": "5e4b5d78",
   "metadata": {},
   "source": [
    "### INPUT Retrofit scenario set up and principal economic parameters input"
   ]
  },
  {
   "cell_type": "code",
   "execution_count": null,
   "id": "b30f2cc1",
   "metadata": {},
   "outputs": [],
   "source": [
    "ESTIM_AVG_DWE_SIZE =55 # Average dwelling size in m2, used for heating demand calculation\n",
    "SCENARIO = [\"S1\",\"S2\"] # Scenarios for heating demand calculation, e.g. \"S1\" for standard, \"S2\" for alternative, etc.\n",
    "REGION = 'Pais_Vasco' # Region for which the heating demand is calculated, e.g. \"Pais_Vasco\" for Basque Country\n",
    "COMBINATION_ID = [1,2] # Combination IDs for different intervention combinations\n",
    "intervention_combinations = {\n",
    "    1: [\"facade\", \"roof\"], # Combination 1 includes facade and roof interventions\n",
    "    2: [\"facade\", \"windows\", \"roof\"], # Combination 2 includes facade, windows, and roof interventions\n",
    "}\n",
    "heating_energy_price_euro_per_kWh = 0.243 # Heating energy price in Euro per kWh, e.g. 0.243 for 24.3 cents per kWh\n",
    "energy_price_growth_rate = 0 # Energy price growth rate, e.g. 0.02 for 2% annual growth\n",
    "pv_degradation_rate = 0 # PV degradation rate, e.g. 0.005 for 0.5% annual degradation\n",
    "n_pv =20 # lifetime of PV system in years, e.g. 20 years\n",
    "n_int = 30 # lifetime of intervention in years, e.g. 30 years\n",
    "r = 0.05 # discount rate, e.g. 0.05 for 5% annual discount rate"
   ]
  },
  {
   "cell_type": "markdown",
   "id": "183627eb",
   "metadata": {},
   "source": [
    "#### 05_1_simple_kpi_calc\n",
    "\n",
    "This code calculates and analyzes economic key performance indicators (KPIs) for building retrofits and PV installations. The general description of the functionality can be split up as:\n",
    "- it merges PV generation, building geometry, and cost data; \n",
    "- estimates investment and maintenance costs for facades, windows, and roofs; \n",
    "- adjusts heating demand based on retrofit scenarios; and \n",
    "- computes PV self-consumption, grid export, and related savings. \n",
    "\n",
    "Results are exported as GeoJSON and Excel files for further economic and energy scenario analysis."
   ]
  },
  {
   "cell_type": "code",
   "execution_count": null,
   "id": "866a55e2",
   "metadata": {},
   "outputs": [],
   "source": [
    "analyzer = kpi_calc.EconomicKPIAnalyzer(PATH,\n",
    "                                        pv_file_name, \n",
    "                                        cost_file_name=INPUT_FILE,\n",
    "                                        facade_file_path=\"data/05_buildings_with_energy_and_co2_values+HDemProj.geojson\", \n",
    "                                        census_file_path=\"00_mod_04_input_data_census_id_ener_consum_profiling.xlsx\")\n",
    "\n",
    "analyzer.df_pv_gen = analyzer.df_pv_gen[analyzer.df_pv_gen[filter_col_name]==filter_value].copy().reset_index(drop=True)\n",
    "analyzer.df_pv_gen.loc[len(analyzer.df_pv_gen)]= analyzer.df_pv_gen.sum(axis=0,numeric_only=True)\n",
    "analyzer.df_pv_gen.loc[len(analyzer.df_pv_gen)-1,'build_id']='Total'\n",
    "\n",
    "analyzer.prepare_facades()\n",
    "analyzer.plot_pv_generation(analyzer.df_pv_gen)\n",
    "analyzer.plot_census_stackplot()\n",
    "\n",
    "for scenario in SCENARIO:\n",
    "    for combination_id in COMBINATION_ID:\n",
    "        analyzer.calculate_costs(scenario)\n",
    "        analyzer.calculate_heating_demand(REGION, scenario, combination_id, ESTIM_AVG_DWE_SIZE, intervention_combinations, heating_energy_price_euro_per_kWh)\n",
    "\n",
    "analyzer.save_facades(\"data/05_buildings_with_energy_and_co2_values+HDelmProj_facade_costs_with_HDem_corr.geojson\")\n",
    "\n",
    "analyzer.calculate_pv_costs() # Calculate PV CAPEX and OPEX\n",
    "save_path = os.path.join(PATH,\"data\", analyzer.pv_file_name)\n",
    "analyzer.util_func.add_sheet_to_excel(analyzer.df_pv_gen, save_path, sheet_name=f\"{filter_col_name}={filter_value}\", index=False, if_sheet_exists='replace')\n",
    "\n",
    "analyzer.join_pv_costs_to_facades()\n",
    "analyzer.save_facades_with_pv(\"data/05_buildings_with_energy_and_co2_values+HDemProj_facade_costs+PV.geojson\")\n",
    "analyzer.calculate_pv_metrics(pv_degradation_rate, energy_price_growth_rate) #Calculate PV metrics for each building in the dataset"
   ]
  },
  {
   "cell_type": "markdown",
   "id": "c9045328",
   "metadata": {},
   "source": [
    "#### 05_2_economic_analysis \n",
    "\n",
    "This code performs economic analysis of building retrofit and PV scenarios at the district level.\n",
    "- It loads building, energy, and cost data; \n",
    "- filters for residential buildings with PV; \n",
    "- calculates economic indicators such as EUAC (Equivalent Uniform Annual Cost), present value, and savings for different intervention combinations; and \n",
    "- aggregates results by census area. \n",
    "\n",
    "The code also generates summary plots and exports results to Excel, supporting scenario comparison for energy and economic planning."
   ]
  },
  {
   "cell_type": "code",
   "execution_count": null,
   "id": "9fb8507a",
   "metadata": {},
   "outputs": [],
   "source": [
    "root = os.getcwd()  # or specify your root directory\n",
    "analysis = economic_analysis.EconomicAnalysis(root, \n",
    "                                              dwelling_col=\"n_dwellOriginal\", # Column name for number of dwellings, e.g. \"n_dwellOriginal\", \"n_dwellEstim\"\n",
    "                                              nrpe_factor =2.007, \n",
    "                                              co2_elect_factor=0.357)\n",
    "\n",
    "analysis.load_data(file_name = f\"05_buildings_with_energy_and_co2_values+HDemProj_facade_costs+PV_economic_pv_deg_rate_{pv_degradation_rate}_ener_price_growth_rate_{energy_price_growth_rate}.xlsx\") # loads of output file of 05_1_simple_kpi_calc.py\n",
    "\n",
    "analysis.df = analysis.df[(analysis.df[filter_col_name] == filter_value) & (analysis.df[\"Total, kWh\"] > 0)]\n",
    "analysis.run_analysis(CAL_REFERENCE_CASE=True)\n",
    "for scenario in SCENARIO:\n",
    "    for combination_id in COMBINATION_ID:\n",
    "        analysis.run_analysis(r=r, \n",
    "                              n=n_pv,\n",
    "                              n_int=n_int, \n",
    "                              energy_price_growth_rate=energy_price_growth_rate,\n",
    "                              heating_energy_price_euro_per_kWh=heating_energy_price_euro_per_kWh, \n",
    "                              SCENARIO=scenario, \n",
    "                              COMBINATION_ID=combination_id)\n",
    "# generate name based on \"MONTH_DATE_HH_MM\"\n",
    "sheet_name = pd.Timestamp.now().strftime(\"%m_%d_Time_%H_%M\")\n",
    "\n",
    "filename_base = \"05_buildings_with_energy_and_co2_values+HDemProj_facade_costs+PV_economic+EUAC_ORIGIN\"\n",
    "if not os.path.exists(os.path.join(root, \"data\", filename_base + \".xlsx\")):\n",
    "    analysis.util_func.save_to_excel(analysis.combined_df, f\"data\\{filename_base}.xlsx\", sheet_name=sheet_name)\n",
    "else:\n",
    "    analysis.util_func.add_sheet_to_excel(analysis.combined_df,f\"data\\{filename_base}.xlsx\", sheet_name=sheet_name, if_sheet_exists='replace')\n",
    "\n",
    "#analysis.save_to_excel(\"05_buildings_with_energy_and_co2_values+HDemProj_facade_costs+PV_economic+EUAC_ORIGIN\", sheet_name=sheet_name)\n",
    "analysis.plot_neighbourhood(\"output_filename\",euac_col=\"Envelope_EUAC\")\n",
    "analysis.plot_neighbourhood(\"output_filename\",euac_col=\"EUAC\")"
   ]
  },
  {
   "cell_type": "markdown",
   "id": "047664f2",
   "metadata": {},
   "source": [
    "## MODULE 7"
   ]
  },
  {
   "cell_type": "markdown",
   "id": "b38bf3fa",
   "metadata": {},
   "source": [
    "#### 07_self-cons_scenarios_calc\n",
    "\n",
    "This subsection analyzes PV self-consumption scenarios at the district and census area level. \n",
    "- It loads PV generation, building, and consumption data; \n",
    "- calculates monthly and annual self-consumption for different shares of dwellings participating in energy communities; and\n",
    "-  visualizes results with plots and heatmaps. \n",
    "\n",
    "The outputs help assess the impact of PV sharing scenarios on self-consumption and self-sufficiency for residential districts."
   ]
  },
  {
   "cell_type": "code",
   "execution_count": null,
   "id": "becab779",
   "metadata": {},
   "outputs": [],
   "source": [
    "self_cons_analysis = self_cons_scenarios_calc.SelfConsumptionAnalysis(PATH, df_pv_gen_filered)\n",
    "self_cons_analysis.calculate_self_consumption()\n",
    "self_cons_analysis.calculate_per_dwelling()\n",
    "\n",
    "\n",
    "self_cons_analysis.load_consumption_data()\n",
    "self_cons_analysis.filter_per_dwelling_percentage()\n",
    "self_cons_analysis.create_heatmap()\n",
    "self_cons_analysis.calculate_self_sufficiency()\n",
    "\n",
    "#util_funct_plots = util_func.PlotFunctions()\n",
    "#util_funct_plots.plot_combined_load_data_from_df_adj(df_plot, title, legend_show=True, y_min=None, y_max=None)"
   ]
  },
  {
   "cell_type": "markdown",
   "id": "1b303e56",
   "metadata": {},
   "source": [
    "#### 07_geo_visualization\n",
    "\n",
    "The code of this class provides geospatial visualization tools for energy and economic indicators at the census section level. It merges census geometries with building or scenario data and generates heatmaps for metrics such as energy demand, CO₂ emissions, non-renewable primary energy (NRPE), and economic costs (EUAC). \n",
    "\n",
    "The visualizations support scenario comparison and spatial analysis of building retrofit and PV impacts across districts."
   ]
  },
  {
   "cell_type": "code",
   "execution_count": null,
   "id": "8739c897",
   "metadata": {},
   "outputs": [],
   "source": [
    "census_file = os.path.join(os.getcwd(), \"vector\", \"stat_census\", default_paths.get(\"STATISTICAL_CENSUS_FILE\"))\n",
    "data_file = os.path.join(os.getcwd(), \"data\", \"05_buildings_with_energy_and_co2_values+HDemProj_facade_costs+PV_economic+EUAC_ORIGIN.xlsx\")\n",
    "\n",
    "# Pass the desired filter value as an argument\n",
    "visualizer = geo_visualization.GeoHeatmapVisualizer(census_file, data_file, filter_value='Comb0ref_case', sheet_name=sheet_name)\n",
    "visualizer.plot_energy_co2_heatmaps()\n",
    "visualizer.geo_heatmap(column_1='NRPE_Envelope_kWh_per_m2', column_2='Envelope_EUAC_per_m2', vmin1=0, vmax1=200, vmin2=0, vmax2=50)\n",
    "visualizer.geo_heatmap_no_colorbar(column_1='NRPE_kWh_per_dwelling', column_2='EUAC_per_dwelling')"
   ]
  },
  {
   "cell_type": "markdown",
   "id": "0c7c087b",
   "metadata": {},
   "source": [
    "## MODULE 6\n",
    "#### 06_enercom_estimator\n",
    "This script estimates and compares annual and monthly energy costs for residential energy communities under different PV adoption rates and electricity pricing scenarios.\n",
    "\n",
    "- it aggregates PV generation and consumption data by census area;\n",
    "- calculates self-consumption, grid export, and cost savings for both PV and non-PV households; and\n",
    "- performs sensitivity analysis on price and participation rates.\n",
    "\n",
    "Results are exported to Excel and visualized with bar plots to support scenario analysis and policy evaluation."
   ]
  },
  {
   "cell_type": "code",
   "execution_count": null,
   "id": "29ae0500",
   "metadata": {},
   "outputs": [],
   "source": [
    "df_sensitivity_append = pd.DataFrame()\n",
    "\n",
    "#ec_price_coef_list = [0.1, 0.25]\n",
    "#pv_pct_list = [0.25, 0.5, 1] # List of dwellings % participate in EC as theoretical direct collective PV self-consumption\n",
    "for ec_price_coef in ec_price_coef_list:\n",
    "    for pv_pct in pv_pct_list:\n",
    "        estimator = enercom_estimator.EnercomEstimator(root=PATH, \n",
    "                                                       df_pv_gen=df_pv_gen_filered,\n",
    "                                                       pv_pct=pv_pct,\n",
    "                                                       ec_price_coef=ec_price_coef\n",
    "                                                       )\n",
    "        estimator.prepare_energy_data()\n",
    "        estimator.calculate_costs()\n",
    "        estimator.export_to_excel()\n",
    "        df_estimator = estimator.analyze(plot =True, title=f\"Estimated Costs for `Scenario {int(pv_pct * 100)}%`, price_diff:{int(ec_price_coef * 100)}%\")\n",
    "        estimator.plot_saving(df_estimator)\n",
    "        estimator.monthly_sensitivity_analysis()\n",
    "        estimator.save_sensitivity()\n",
    "        df_sensitivity_append = df_sensitivity_append.append(df_estimator)\n",
    "         \n",
    "estimator.save_sensitivity(df_sensitivity_append)"
   ]
  },
  {
   "cell_type": "markdown",
   "id": "0f7038df",
   "metadata": {},
   "source": [
    "### Sensitivity Plot"
   ]
  },
  {
   "cell_type": "code",
   "execution_count": null,
   "id": "8c6673fb",
   "metadata": {},
   "outputs": [],
   "source": [
    "df = df_sensitivity_append.reset_index()\n",
    "print (\"Percentage of energy cost savings per scenario and share of associated with collective (direct) PV self-consumption in the census zone\")\n",
    "estimator.plot_savings_distribution(df,values = \"Savings, Dwell with PV, %\", colormap='cividis')\n",
    "print (\"Percentage of energy cost savings per scenario and share of dwellings not associated with collective (direct) PV self-consumption in the census zone\")\n",
    "estimator.plot_savings_distribution(df,values = \"Savings, Dwell without PV, %\", colormap='copper')"
   ]
  }
 ],
 "metadata": {
  "kernelspec": {
   "display_name": "spacer-hb",
   "language": "python",
   "name": "python3"
  },
  "language_info": {
   "codemirror_mode": {
    "name": "ipython",
    "version": 3
   },
   "file_extension": ".py",
   "mimetype": "text/x-python",
   "name": "python",
   "nbconvert_exporter": "python",
   "pygments_lexer": "ipython3",
   "version": "3.9.16"
  }
 },
 "nbformat": 4,
 "nbformat_minor": 5
}
